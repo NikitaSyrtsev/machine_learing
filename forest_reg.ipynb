{
 "cells": [
  {
   "cell_type": "code",
   "execution_count": 15,
   "metadata": {},
   "outputs": [],
   "source": [
    "import random\n",
    "import pandas as pd\n",
    "import numpy as np\n",
    "from sklearn.datasets import make_regression\n",
    "from sklearn.metrics import mean_absolute_error, mean_squared_error, r2_score, mean_absolute_percentage_error\n",
    "from decision_tree import MyTreeReg\n",
    "\n",
    "class MyForestReg:\n",
    "    def __init__(self, n_estimators=10, max_features=0.5, max_samples=0.5, random_state=42, max_depth=5, min_samples_split=2, max_leafs=20, bins=16, oob_score=None): \n",
    "        # Параметры леса\n",
    "        self.n_estimators = n_estimators\n",
    "        self.max_features = max_features\n",
    "        self.max_samples = max_samples\n",
    "        self.random_state = random_state\n",
    "        \n",
    "        # Параметры деревьев\n",
    "        self.max_depth = max_depth\n",
    "        self.min_samples_split = min_samples_split\n",
    "        self.max_leafs = max_leafs\n",
    "        self.bins = bins\n",
    "        \n",
    "        # Лес (список деревьев)\n",
    "        self.trees = []\n",
    "        \n",
    "        # Словарь для хранения важности признаков\n",
    "        self.fi = {}  \n",
    "        \n",
    "        self.oob_score = oob_score  # параметр oob_score\n",
    "        self.oob_score_ = None  # Переменная для хранения OOB-ошибки\n",
    "    \n",
    "    def __str__(self):\n",
    "        params = vars(self)  # Получаем все атрибуты экземпляра как словарь\n",
    "        params_str = ', '.join(f\"{key}={value}\" for key, value in params.items())\n",
    "        return f\"MyForestReg class: {params_str}\"\n",
    "    \n",
    "    def fit(self, X: pd.DataFrame, y: pd.Series):\n",
    "        # Фиксируем сид для воспроизводимости\n",
    "        random.seed(self.random_state)\n",
    "        \n",
    "        # Инициализация параметров\n",
    "        init_cols = list(X.columns)  # Все колонки\n",
    "        init_rows_cnt = len(X)  # Количество строк\n",
    "        \n",
    "        # Инициализируем важность фичей\n",
    "        self.fi = {col: 0 for col in init_cols}\n",
    "        \n",
    "        # Списки для хранения OOB-выборок\n",
    "        oob_predictions = np.zeros(init_rows_cnt, dtype=np.float64)\n",
    "        oob_counts = np.zeros(init_rows_cnt, dtype=np.int32)\n",
    "        \n",
    "        # Проходим по количеству деревьев\n",
    "        for _ in range(self.n_estimators):\n",
    "            # Выбираем случайные колонки\n",
    "            cols_smpl_cnt = round(self.max_features * len(init_cols))  # Количество колонок\n",
    "            cols_idx = random.sample(init_cols, cols_smpl_cnt)  # Индексы колонок\n",
    "            \n",
    "            # Выбираем случайные строки\n",
    "            rows_smpl_cnt = round(self.max_samples * init_rows_cnt)  # Количество строк\n",
    "            rows_idx = random.sample(range(init_rows_cnt), rows_smpl_cnt)  # Индексы строк\n",
    "            \n",
    "            # Формируем подвыборку данных\n",
    "            X_subset = X.iloc[rows_idx][cols_idx]  # Исправлено\n",
    "            y_subset = y.iloc[rows_idx]\n",
    "            \n",
    "            # Получаем OOB индексы\n",
    "            oob_mask = np.zeros(init_rows_cnt, dtype=bool)\n",
    "            oob_mask[rows_idx] = True\n",
    "            oob_indices = np.where(~oob_mask)[0]\n",
    "            \n",
    "            # Создаем дерево с вашим импортированным DecisionTree\n",
    "            tree = self._create_tree()\n",
    "            # Обучаем дерево\n",
    "            tree.fit(X_subset, y_subset, N=init_rows_cnt)\n",
    "            \n",
    "            # Предсказываем для OOB-выборки\n",
    "            if len(oob_indices) > 0:\n",
    "                oob_preds = tree.predict(X.iloc[oob_indices][cols_idx])\n",
    "                oob_predictions[oob_indices] += np.array(oob_preds, dtype=np.float64)  # Преобразуем в массив float\n",
    "                oob_counts[oob_indices] += 1\n",
    "            \n",
    "            # Добавляем дерево в лес\n",
    "            self.trees.append(tree)\n",
    "            \n",
    "            # Обновляем важность признаков\n",
    "            for col in cols_idx:\n",
    "                self.fi[col] += tree.feature_importances()[col]\n",
    "                \n",
    "        # Рассчитываем OOB score\n",
    "        if self.oob_score is not None:\n",
    "            valid_mask = oob_counts > 0  # Только те, где были предсказания\n",
    "            oob_predictions[valid_mask] /= oob_counts[valid_mask]  # Среднее предсказание по OOB\n",
    "            oob_actuals = y[valid_mask]  # Фактические значения для OOB\n",
    "\n",
    "            # Используем готовые метрики из sklearn\n",
    "            if self.oob_score == 'mae':\n",
    "                self.oob_score_ = mean_absolute_error(oob_actuals, oob_predictions[valid_mask])\n",
    "            elif self.oob_score == 'mse':\n",
    "                self.oob_score_ = mean_squared_error(oob_actuals, oob_predictions[valid_mask])\n",
    "            elif self.oob_score == 'rmse':\n",
    "                self.oob_score_ = mean_squared_error(oob_actuals, oob_predictions[valid_mask], squared=False)  # RMSE\n",
    "            elif self.oob_score == 'mape':\n",
    "                self.oob_score_ = mean_absolute_percentage_error(oob_actuals, oob_predictions[valid_mask]) * 100\n",
    "            elif self.oob_score == 'r2':\n",
    "                self.oob_score_ = r2_score(oob_actuals, oob_predictions[valid_mask])\n",
    "                \n",
    "    def _create_tree(self):\n",
    "        # Создаем и возвращаем экземпляр MyTreeReg, используя нужные параметры\n",
    "        return MyTreeReg(max_depth=self.max_depth, \n",
    "                         min_samples_split=self.min_samples_split, \n",
    "                         max_leafs=self.max_leafs, \n",
    "                         bins=self.bins)\n",
    "\n",
    "    def predict(self, X):\n",
    "        # Список для хранения предсказаний от каждого дерева для каждой строки\n",
    "        predictions = np.zeros(len(X))\n",
    "\n",
    "        # Проходим по каждому дереву в лесу\n",
    "        for tree in self.trees:\n",
    "            tree_preds = tree.predict(X)  # Получаем предсказания от одного дерева\n",
    "            predictions += np.array(tree_preds)  # Суммируем предсказания\n",
    "        \n",
    "        # Возвращаем среднее предсказание\n",
    "        return predictions / self.n_estimators\n",
    "    \n",
    "    def feature_importances(self):\n",
    "        return self.fi"
   ]
  },
  {
   "cell_type": "code",
   "execution_count": 16,
   "metadata": {},
   "outputs": [
    {
     "name": "stdout",
     "output_type": "stream",
     "text": [
      "OOB MSE: 19507.103707641694\n"
     ]
    }
   ],
   "source": [
    "# Создание данных\n",
    "X, y = make_regression(n_samples=100, n_features=5, noise=0.1, random_state=42)\n",
    "X = pd.DataFrame(X, columns=[f'feature_{i}' for i in range(X.shape[1])])\n",
    "y = pd.Series(y)\n",
    "\n",
    "# Обучение модели\n",
    "forest = MyForestReg(n_estimators=3, oob_score='mse')\n",
    "forest.fit(X, y)\n",
    "\n",
    "# Вывод OOB score\n",
    "print(f\"OOB MSE: {forest.oob_score_}\")\n"
   ]
  },
  {
   "cell_type": "code",
   "execution_count": 2,
   "metadata": {},
   "outputs": [
    {
     "name": "stdout",
     "output_type": "stream",
     "text": [
      "All feature importances: {'feature_0': 565116.5685344362, 'feature_1': 416897.8965800847, 'feature_2': 287938.2001675673, 'feature_3': 68492.72514977847, 'feature_4': 208329.86823288188}\n"
     ]
    }
   ],
   "source": [
    "# важность признаков\n",
    "X, y = make_regression(n_samples=100, n_features=5, noise=0.1, random_state=42)\n",
    "X = pd.DataFrame(X, columns=[f'feature_{i}' for i in range(5)])\n",
    "y = pd.Series(y)\n",
    "\n",
    "# Создание и обучение случайного леса\n",
    "forest = MyForestReg(n_estimators=3, max_features=0.8, max_samples=0.7, max_depth=5)\n",
    "forest.fit(X, y)\n",
    "\n",
    "# Получение важности всех признаков\n",
    "print(\"All feature importances:\", forest.feature_importances())"
   ]
  },
  {
   "cell_type": "code",
   "execution_count": 29,
   "metadata": {},
   "outputs": [
    {
     "name": "stdout",
     "output_type": "stream",
     "text": [
      "Sum of predictions: 1117.1144393196844\n"
     ]
    }
   ],
   "source": [
    "# тест предсказания\n",
    "X, y = make_regression(n_samples=100, n_features=5, noise=0.1, random_state=42)\n",
    "X = pd.DataFrame(X, columns=[f'feature_{i}' for i in range(5)])\n",
    "y = pd.Series(y)\n",
    "\n",
    "# Создание и обучение случайного леса\n",
    "forest = MyForestReg(n_estimators=3, max_features=0.8, max_samples=0.7, max_depth=5)\n",
    "forest.fit(X, y)\n",
    "\n",
    "# Получение предсказаний\n",
    "predictions = forest.predict(X)\n",
    "\n",
    "# Печатаем сумму предсказаний\n",
    "print(\"Sum of predictions:\", sum(predictions))"
   ]
  },
  {
   "cell_type": "code",
   "execution_count": 28,
   "metadata": {},
   "outputs": [
    {
     "name": "stdout",
     "output_type": "stream",
     "text": [
      "Проверка 1 - Количество листьев: 79\n",
      "Проверка 2 - Количество листьев: 403\n",
      "Проверка 3 - Количество листьев: 204\n"
     ]
    }
   ],
   "source": [
    "X, y = make_regression(n_samples=100, n_features=5, noise=0.1, random_state=42)\n",
    "\n",
    "# Преобразуем данные в формат DataFrame для совместимости с вашим кодом\n",
    "X = pd.DataFrame(X, columns=[f'feature{i}' for i in range(X.shape[1])])\n",
    "y = pd.Series(y)\n",
    "\n",
    "# Проверка 1: Лес с небольшим количеством деревьев\n",
    "forest_reg_1 = MyForestReg(n_estimators=5, random_state=42)\n",
    "forest_reg_1.fit(X, y)\n",
    "print(f\"Проверка 1 - Количество листьев: {forest_reg_1.leafs_cnt}\")\n",
    "\n",
    "# Проверка 2: Лес с большим количеством деревьев\n",
    "forest_reg_2 = MyForestReg(n_estimators=20, max_depth=7, random_state=42)\n",
    "forest_reg_2.fit(X, y)\n",
    "print(f\"Проверка 2 - Количество листьев: {forest_reg_2.leafs_cnt}\")\n",
    "\n",
    "# Проверка 3: Лес с измененным количеством фич и сэмплов для каждого дерева\n",
    "forest_reg_3 = MyForestReg(n_estimators=10, max_features=0.7, max_samples=0.8, random_state=42)\n",
    "forest_reg_3.fit(X, y)\n",
    "print(f\"Проверка 3 - Количество листьев: {forest_reg_3.leafs_cnt}\")\n",
    "\n"
   ]
  },
  {
   "cell_type": "code",
   "execution_count": 2,
   "metadata": {},
   "outputs": [
    {
     "name": "stdout",
     "output_type": "stream",
     "text": [
      "MyForestReg class: n_estimators=10, max_features=0.5, max_samples=0.5, random_state=42, max_depth=5, min_samples_split=2, max_leafs=20, bins=16, trees=[], leafs_cnt=0\n",
      "MyForestReg class: n_estimators=10, max_features=0.5, max_samples=0.5, random_state=42, max_depth=5, min_samples_split=5, max_leafs=20, bins=16, trees=[], leafs_cnt=0\n",
      "MyForestReg class: n_estimators=8, max_features=0.5, max_samples=0.5, random_state=42, max_depth=5, min_samples_split=5, max_leafs=20, bins=16, trees=[], leafs_cnt=0\n"
     ]
    }
   ],
   "source": [
    "# Тестирование класса\n",
    "forest1 = MyForestReg()\n",
    "forest2 = MyForestReg(n_estimators=10, max_features=0.5, max_samples=0.5, random_state=42, max_depth=5, min_samples_split=5, max_leafs=20, bins=16)\n",
    "forest3 = MyForestReg(n_estimators=8, max_features=0.5, max_samples=0.5, random_state=42, max_depth=5, min_samples_split=5, max_leafs=20, bins=16)\n",
    "\n",
    "# Проверка\n",
    "print(forest1)\n",
    "print(forest2)\n",
    "print(forest3)"
   ]
  }
 ],
 "metadata": {
  "kernelspec": {
   "display_name": "base",
   "language": "python",
   "name": "python3"
  },
  "language_info": {
   "codemirror_mode": {
    "name": "ipython",
    "version": 3
   },
   "file_extension": ".py",
   "mimetype": "text/x-python",
   "name": "python",
   "nbconvert_exporter": "python",
   "pygments_lexer": "ipython3",
   "version": "3.11.5"
  }
 },
 "nbformat": 4,
 "nbformat_minor": 2
}
