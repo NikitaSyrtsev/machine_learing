{
 "cells": [
  {
   "cell_type": "code",
   "execution_count": 5,
   "metadata": {},
   "outputs": [],
   "source": [
    "import random\n",
    "import pandas as pd\n",
    "import numpy as np\n",
    "from sklearn.datasets import make_classification\n",
    "from sklearn.metrics import accuracy_score, precision_score, recall_score, f1_score, roc_auc_score\n",
    "from decision_tree_cls import MyTreeClf"
   ]
  },
  {
   "cell_type": "code",
   "execution_count": 7,
   "metadata": {},
   "outputs": [],
   "source": [
    "class MyForestClf:\n",
    "    def __init__(self, n_estimators=10, max_features=0.5,\n",
    "                max_samples=0.5, random_state=42,\n",
    "                max_depth=5, min_samples_split=2,\n",
    "                max_leafs=20, bins=16, oob_score=None):\n",
    "        self.n_estimators = n_estimators\n",
    "        self.max_features = max_features\n",
    "        self.max_samples = max_samples\n",
    "        self.random_state = random_state\n",
    "        \n",
    "        # Параметры деревьев\n",
    "        self.max_depth = max_depth\n",
    "        self.min_samples_split = min_samples_split\n",
    "        self.max_leafs = max_leafs\n",
    "        self.bins = bins\n",
    "        \n",
    "        # Лес (список деревьев)\n",
    "        self.trees = []\n",
    "        \n",
    "        # Переменная для хранения количества листьев\n",
    "        self.leafs_cnt = 0\n",
    "        \n",
    "        # Словарь для хранения важности фичей\n",
    "        self.fi = {}\n",
    "        \n",
    "        self.oob_score = oob_score  # Новое поле для выбора метрики\n",
    "        self.oob_score_ = None\n",
    "    \n",
    "    def fit(self, X: pd.DataFrame, y: pd.Series):\n",
    "        # Фиксируем сид для воспроизводимости\n",
    "        random.seed(self.random_state)\n",
    "        \n",
    "        # Инициализация параметров\n",
    "        init_cols = list(X.columns)  # Все колонки\n",
    "        init_rows_cnt = len(X)  # Количество строк\n",
    "        \n",
    "         # Инициализируем важность фичей\n",
    "        self.fi = {col: 0 for col in init_cols}\n",
    "        \n",
    "         # Для OOB оценок\n",
    "        # Списки для хранения OOB-выборок\n",
    "        oob_predictions = np.zeros((init_rows_cnt, self.n_estimators))  # Для хранения OOB предсказаний\n",
    "        oob_counts = np.zeros(init_rows_cnt,  dtype=np.int32)  # Считаем сколько раз каждая строка попадает в OOB выборку\n",
    "        \n",
    "        # Проходим по количеству деревьев\n",
    "        for i in range(self.n_estimators):\n",
    "            # Выбираем случайные колонки\n",
    "            cols_smpl_cnt = round(self.max_features * len(init_cols))  # Количество колонок\n",
    "            cols_idx = random.sample(init_cols, cols_smpl_cnt)  # Индексы колонок\n",
    "            \n",
    "            # Выбираем случайные строки\n",
    "            rows_smpl_cnt = round(self.max_samples * init_rows_cnt)  # Количество строк\n",
    "            rows_idx = random.sample(range(init_rows_cnt), rows_smpl_cnt)  # Индексы строк\n",
    "            \n",
    "            # OOB выборка (все строки, которые не попали в обучающую выборку)\n",
    "            oob_idx = [idx for idx in range(init_rows_cnt) if idx not in rows_idx]\n",
    "            \n",
    "            # Формируем подвыборку данных\n",
    "            X_subset = X.iloc[rows_idx][cols_idx]\n",
    "            y_subset = y.iloc[rows_idx]\n",
    "            \n",
    "            # Создаем дерево с импортированным классификатором дерева\n",
    "            tree = MyTreeClf(max_depth=self.max_depth, \n",
    "                             min_samples_split=self.min_samples_split, \n",
    "                             max_leafs=self.max_leafs, \n",
    "                             bins=self.bins)\n",
    "            \n",
    "            # Обучаем дерево\n",
    "            tree.fit(X_subset, y_subset)\n",
    "            \n",
    "            # Добавляем дерево в лес\n",
    "            self.trees.append(tree)\n",
    "            \n",
    "            # Предсказание для OOB выборки\n",
    "            if len(oob_idx) > 0:\n",
    "                oob_pred = tree.predict_proba(X.iloc[oob_idx])\n",
    "                oob_predictions[oob_idx, i] = oob_pred  # Сохраняем предсказания\n",
    "                oob_counts[oob_idx] += 1  # Увеличиваем счетчик OOB для этих строк\n",
    "            \n",
    "            # Подсчитываем количество листьев\n",
    "            self.leafs_cnt += tree.leaf_count()\n",
    "            \n",
    "             # Обновляем важность признаков\n",
    "            for col in cols_idx:\n",
    "                self.fi[col] += tree.feature_importances()[col]\n",
    "        \n",
    "        # Усредняем предсказания по OOB строкам\n",
    "        valid_oob_mask = oob_counts > 0\n",
    "        if np.any(valid_oob_mask):\n",
    "            oob_avg_predictions = np.mean(oob_predictions[valid_oob_mask], axis=1)\n",
    "            oob_avg_labels = (oob_avg_predictions > 0.5).astype(int)\n",
    "\n",
    "            # Вычисление метрики\n",
    "            if self.oob_score == 'accuracy':\n",
    "                self.oob_score_ = accuracy_score(y[valid_oob_mask], oob_avg_labels)\n",
    "            elif self.oob_score == 'precision':\n",
    "                self.oob_score_ = precision_score(y[valid_oob_mask], oob_avg_labels)\n",
    "            elif self.oob_score == 'recall':\n",
    "                self.oob_score_ = recall_score(y[valid_oob_mask], oob_avg_labels)\n",
    "            elif self.oob_score == 'f1':\n",
    "                self.oob_score_ = f1_score(y[valid_oob_mask], oob_avg_labels)\n",
    "            elif self.oob_score == 'roc_auc':\n",
    "                self.oob_score_ = roc_auc_score(y[valid_oob_mask], oob_avg_predictions)\n",
    "            \n",
    "    def predict(self, X: pd.DataFrame, type: str = 'mean'):\n",
    "        predictions = []\n",
    "        \n",
    "        for i in range(len(X)):\n",
    "            # Получаем предсказания всех деревьев для одной строки\n",
    "            tree_predictions = [tree.predict(X.iloc[[i]])[0] for tree in self.trees]\n",
    "            \n",
    "            if type == 'mean':\n",
    "                # Усредняем вероятности и применяем порог 0.5 для бинарного предсказания\n",
    "                mean_pred = np.mean(tree_predictions)\n",
    "                final_pred = 1 if mean_pred > 0.5 else 0\n",
    "            elif type == 'vote':\n",
    "                # Подсчитываем голосование деревьев\n",
    "                votes = np.bincount(tree_predictions)\n",
    "                final_pred = np.argmax(votes) if len(votes) == 1 or votes[0] != votes[1] else 1\n",
    "            else:\n",
    "                raise ValueError(\"Parameter 'type' must be 'mean' or 'vote'\")\n",
    "            \n",
    "            predictions.append(final_pred)\n",
    "        \n",
    "        return predictions\n",
    "\n",
    "    def predict_proba(self, X: pd.DataFrame):\n",
    "        probabilities = []\n",
    "        \n",
    "        for i in range(len(X)):\n",
    "            # Получаем вероятности от каждого дерева для одной строки\n",
    "            tree_probs = [tree.predict_proba(X.iloc[[i]]) for tree in self.trees]\n",
    "            \n",
    "            # Усредняем вероятности\n",
    "            mean_prob = np.mean(tree_probs)\n",
    "            probabilities.append(mean_prob)\n",
    "        \n",
    "        return probabilities\n",
    "    \n",
    "    def feature_importances(self):\n",
    "        return self.fi\n"
   ]
  },
  {
   "cell_type": "code",
   "execution_count": 8,
   "metadata": {},
   "outputs": [
    {
     "name": "stdout",
     "output_type": "stream",
     "text": [
      "OOB accuracy: 0.6781609195402298\n"
     ]
    }
   ],
   "source": [
    "# Тестирование OOB error\n",
    "X, y = make_classification(n_samples=100, n_features=5, random_state=42)\n",
    "X = pd.DataFrame(X, columns=[f'feature_{i}' for i in range(X.shape[1])])\n",
    "y = pd.Series(y)\n",
    "\n",
    "# Обучение модели\n",
    "forest = MyForestClf(n_estimators=3, oob_score='accuracy')и\n",
    "forest.fit(X, y)\n",
    "\n",
    "# Вывод OOB score\n",
    "print(f\"OOB accuracy: {forest.oob_score_}\")"
   ]
  },
  {
   "cell_type": "code",
   "execution_count": 4,
   "metadata": {},
   "outputs": [
    {
     "name": "stdout",
     "output_type": "stream",
     "text": [
      "All feature importances: {'feature_0': 1.4338941410209771, 'feature_1': 1.3199058999517281, 'feature_2': 1.1477802213853479, 'feature_3': 0}\n"
     ]
    }
   ],
   "source": [
    "# Тестирование важности фичей\n",
    "X, y = make_classification(n_samples=100,  # Количество строк (сэмплов)\n",
    "                           n_features=4,   # Количество признаков\n",
    "                           n_informative=3,  # Количество информативных признаков\n",
    "                           n_redundant=0,  # Количество избыточных признаков\n",
    "                           n_classes=2,  # Количество классов (бинарная классификация)\n",
    "                           random_state=42)  # Для воспроизводимости\n",
    "X = pd.DataFrame(X, columns=[f'feature_{i}' for i in range(4)])  # Исправлено на 4\n",
    "y = pd.Series(y)\n",
    "\n",
    "# Создание и обучение случайного леса\n",
    "forest = MyForestClf(n_estimators=5, max_features=0.6, max_samples=0.7, random_state=42)\n",
    "forest.fit(X, y)\n",
    "\n",
    "# Получение важности всех признаков\n",
    "print(\"All feature importances:\", forest.feature_importances())"
   ]
  },
  {
   "cell_type": "code",
   "execution_count": 7,
   "metadata": {},
   "outputs": [
    {
     "name": "stdout",
     "output_type": "stream",
     "text": [
      "Сумма предсказаний (type='mean'): 45\n",
      "Сумма голосов (type='vote'): 45\n",
      "Сумма вероятностей: 45.0\n"
     ]
    }
   ],
   "source": [
    "#Тестирование предсказания\n",
    "X, y = make_classification(n_samples=100,  # Количество строк (сэмплов)\n",
    "                           n_features=4,   # Количество признаков\n",
    "                           n_informative=3,  # Количество информативных признаков\n",
    "                           n_redundant=0,  # Количество избыточных признаков\n",
    "                           n_classes=2,  # Количество классов (бинарная классификация)\n",
    "                           random_state=42)  # Для воспроизводимости\n",
    "\n",
    "# Преобразуем X в DataFrame для удобства\n",
    "X = pd.DataFrame(X, columns=[f'feature{i}' for i in range(1, 5)])\n",
    "\n",
    "# Инициализация модели случайного леса\n",
    "forest_clf = MyForestClf(n_estimators=5, max_features=0.6, max_samples=0.7, random_state=42)\n",
    "\n",
    "# Обучение модели на наборе данных\n",
    "forest_clf.fit(X, pd.Series(y))\n",
    "\n",
    "# Предсказания классов (mean и vote)\n",
    "predictions_mean = forest_clf.predict(X, type='mean')\n",
    "predictions_vote = forest_clf.predict(X, type='vote')\n",
    "\n",
    "# Предсказания вероятностей\n",
    "probabilities = forest_clf.predict_proba(X)\n",
    "\n",
    "# Проверим результаты\n",
    "print(f\"Сумма предсказаний (type='mean'): {sum(predictions_mean)}\")\n",
    "print(f\"Сумма голосов (type='vote'): {sum(predictions_vote)}\")\n",
    "print(f\"Сумма вероятностей: {sum(probabilities)}\")"
   ]
  },
  {
   "cell_type": "code",
   "execution_count": 3,
   "metadata": {},
   "outputs": [
    {
     "name": "stdout",
     "output_type": "stream",
     "text": [
      "Количество листьев во всем лесу: 55\n"
     ]
    }
   ],
   "source": [
    "#Тестирование обучения\n",
    "X, y = make_classification(n_samples=100,  # Количество строк (сэмплов)\n",
    "                           n_features=4,   # Количество признаков\n",
    "                           n_informative=3,  # Количество информативных признаков\n",
    "                           n_redundant=0,  # Количество избыточных признаков\n",
    "                           n_classes=2,  # Количество классов (бинарная классификация)\n",
    "                           random_state=42)  # Для воспроизводимости\n",
    "\n",
    "# Преобразуем X в DataFrame для удобства\n",
    "X = pd.DataFrame(X, columns=[f'feature{i}' for i in range(1, 5)])\n",
    "\n",
    "# Инициализация модели случайного леса\n",
    "forest_clf = MyForestClf(n_estimators=5, max_features=0.6, max_samples=0.7, random_state=42)\n",
    "\n",
    "# Обучение модели на наборе данных\n",
    "forest_clf.fit(X, pd.Series(y))\n",
    "\n",
    "# Вывод количества листьев после обучения\n",
    "print(f\"Количество листьев во всем лесу: {forest_clf.leafs_cnt}\")"
   ]
  },
  {
   "cell_type": "code",
   "execution_count": 6,
   "metadata": {},
   "outputs": [
    {
     "name": "stdout",
     "output_type": "stream",
     "text": [
      "MyForestReg class: n_estimators=10, max_features=0.5, max_samples=0.5, random_state=42, max_depth=5, min_samples_split=2, max_leafs=20, bins=16, criterion=entropy\n",
      "MyForestReg class: n_estimators=10, max_features=0.5, max_samples=0.5, random_state=42, max_depth=5, min_samples_split=5, max_leafs=20, bins=16, criterion=entropy\n",
      "MyForestReg class: n_estimators=8, max_features=0.5, max_samples=0.5, random_state=42, max_depth=5, min_samples_split=5, max_leafs=20, bins=16, criterion=entropy\n"
     ]
    }
   ],
   "source": [
    "# Тестирование класса\n",
    "forest1 = MyForestClf()\n",
    "forest2 = MyForestClf(n_estimators=10, max_features=0.5, max_samples=0.5, random_state=42, max_depth=5, min_samples_split=5, max_leafs=20, bins=16)\n",
    "forest3 = MyForestClf(n_estimators=8, max_features=0.5, max_samples=0.5, random_state=42, max_depth=5, min_samples_split=5, max_leafs=20, bins=16)\n",
    "\n",
    "# Проверка\n",
    "print(forest1)\n",
    "print(forest2)\n",
    "print(forest3)"
   ]
  }
 ],
 "metadata": {
  "kernelspec": {
   "display_name": "base",
   "language": "python",
   "name": "python3"
  },
  "language_info": {
   "codemirror_mode": {
    "name": "ipython",
    "version": 3
   },
   "file_extension": ".py",
   "mimetype": "text/x-python",
   "name": "python",
   "nbconvert_exporter": "python",
   "pygments_lexer": "ipython3",
   "version": "3.11.5"
  }
 },
 "nbformat": 4,
 "nbformat_minor": 2
}
