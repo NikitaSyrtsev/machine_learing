{
 "cells": [
  {
   "cell_type": "code",
   "execution_count": 3,
   "metadata": {},
   "outputs": [],
   "source": [
    "import numpy as np\n",
    "import pandas as pd\n",
    "import random\n",
    "from copy import deepcopy\n",
    "from sklearn.datasets import make_regression\n",
    "\n",
    "# импортируем мои классы\n",
    "from TreeReg import MyTreeReg\n",
    "from LineReg import MyLineReg\n",
    "from KNNReg import MyKNNReg\n"
   ]
  },
  {
   "cell_type": "code",
   "execution_count": null,
   "metadata": {},
   "outputs": [],
   "source": [
    "class MyBaggingReg:\n",
    "    def __init__(self, estimator=None, n_estimators=10, max_samples=1.0, random_state=42, oob_score=None):\n",
    "        self.estimator = estimator\n",
    "        self.n_estimators = n_estimators\n",
    "        self.max_samples = max_samples\n",
    "        self.random_state = random_state\n",
    "        self.oob_score = oob_score  # Тип метрики для OOB оценки\n",
    "        self.oob_score_ = None  # Хранение OOB метрики после обучения\n",
    "        self.estimators = []  # Список для хранения обученных моделей\n",
    "        self.oob_predictions = {}  # Словарь для хранения OOB предсказаний по строкам\n",
    "\n",
    "    def __str__(self):\n",
    "        params = vars(self) # Получаем все атрибуты экземпляра как словарь\n",
    "        params_str = ', '.join(f\"{key}={value}\" for key, value in params.items())\n",
    "        return f\"MyTreeReg class: {params_str}\"\n",
    "    \n",
    "    def calculate_oob_score(self, y: pd.Series):\n",
    "        oob_actual = []\n",
    "        oob_predicted = []\n",
    "\n",
    "        # Собираем финальные предсказания для строк, у которых есть OOB предсказания\n",
    "        for idx, preds in self.oob_predictions.items():\n",
    "            if preds:  # Если для индекса есть предсказания\n",
    "                oob_actual.append(y.iloc[idx])\n",
    "                oob_predicted.append(np.mean(preds))  # Среднее предсказание по OOB\n",
    "\n",
    "        # Вычисляем метрику в зависимости от типа oob_score\n",
    "        if self.oob_score == 'mae':\n",
    "            self.oob_score_ = np.mean(np.abs(np.array(oob_actual) - np.array(oob_predicted)))\n",
    "        elif self.oob_score == 'mse':\n",
    "            self.oob_score_ = np.mean((np.array(oob_actual) - np.array(oob_predicted)) ** 2)\n",
    "        elif self.oob_score == 'rmse':\n",
    "            self.oob_score_ = np.sqrt(np.mean((np.array(oob_actual) - np.array(oob_predicted)) ** 2))\n",
    "        elif self.oob_score == 'mape':\n",
    "            self.oob_score_ = np.mean(np.abs((np.array(oob_actual) - np.array(oob_predicted)) / np.array(oob_actual))) * 100\n",
    "        elif self.oob_score == 'r2':\n",
    "            ss_total = np.sum((np.array(oob_actual) - np.mean(oob_actual)) ** 2)\n",
    "            ss_residual = np.sum((np.array(oob_actual) - np.array(oob_predicted)) ** 2)\n",
    "            self.oob_score_ = 1 - ss_residual / ss_total\n",
    "    \n",
    "    def fit(self, X: pd.DataFrame, y: pd.Series):\n",
    "        # Фиксируем сид для генерации воспроизводимых бутстреп-выборок\n",
    "        random.seed(self.random_state)\n",
    "\n",
    "        # Определяем количество строк для бутстреп-выборки\n",
    "        n_samples = X.shape[0]\n",
    "        rows_num_list = list(range(n_samples))\n",
    "        rows_smpl_cnt = int(n_samples * self.max_samples)\n",
    "        \n",
    "        self.estimators = []  # Очистка списка моделей\n",
    "        self.oob_predictions = {i: [] for i in range(n_samples)}  # Подготовка для OOB предсказаний\n",
    "\n",
    "        for i in range(self.n_estimators):\n",
    "            # Генерируем случайные индексы строк для бутстреп-выборки\n",
    "            sample_rows_idx = random.choices(rows_num_list, k=rows_smpl_cnt)\n",
    "            oob_rows_idx = list(set(rows_num_list) - set(sample_rows_idx))  # OOB выборка\n",
    "\n",
    "            # Создаем подвыборку\n",
    "            X_sample = X.iloc[sample_rows_idx]\n",
    "            y_sample = y.iloc[sample_rows_idx]\n",
    "\n",
    "            # Клонируем базовый оценщик и обучаем на подвыборке\n",
    "            model = deepcopy(self.estimator)\n",
    "            \n",
    "            # Передаем 'N' в 'fit' для MyTreeReg\n",
    "            if isinstance(model, MyTreeReg):\n",
    "                model.fit(X_sample, y_sample, N=X_sample.shape[0])\n",
    "            else:\n",
    "                model.fit(X_sample, y_sample)\n",
    "            \n",
    "            # Сохраняем обученную модель\n",
    "            self.estimators.append(model)\n",
    "            \n",
    "            # Выполняем предсказания для OOB-выборки и сохраняем их\n",
    "            if oob_rows_idx:\n",
    "                X_oob = X.iloc[oob_rows_idx]\n",
    "                y_oob_pred = model.predict(X_oob)\n",
    "\n",
    "                for idx, pred in zip(oob_rows_idx, y_oob_pred):\n",
    "                    self.oob_predictions[idx].append(pred)\n",
    "                    \n",
    "        # Рассчитываем OOB метрику по завершении обучения всех моделей\n",
    "        if self.oob_score:\n",
    "            self.calculate_oob_score(y)\n",
    "            \n",
    "    def predict(self, X: pd.DataFrame):\n",
    "        # Создаем пустой список для хранения предсказаний для каждой строки\n",
    "        averaged_predictions = []\n",
    "        \n",
    "        # Пройдемся по каждой строке датафрейма X\n",
    "        for _, row in X.iterrows():\n",
    "            # Список для предсказаний текущей строки от каждой базовой модели\n",
    "            row_predictions = []\n",
    "            \n",
    "            # Получаем предсказание от каждой модели для текущей строки\n",
    "            for model in self.estimators:\n",
    "                prediction = model.predict(pd.DataFrame([row]))[0]  # Предсказание для одной строки\n",
    "                row_predictions.append(prediction)\n",
    "            \n",
    "            # Усредняем предсказания базовых моделей и добавляем в итоговый список\n",
    "            averaged_predictions.append(sum(row_predictions) / len(row_predictions))\n",
    "        \n",
    "        # Возвращаем список предсказаний для всех строк датафрейма\n",
    "        return averaged_predictions"
   ]
  },
  {
   "cell_type": "code",
   "execution_count": 5,
   "metadata": {},
   "outputs": [
    {
     "name": "stdout",
     "output_type": "stream",
     "text": [
      "OOB MSE: 5446.425240836741\n"
     ]
    }
   ],
   "source": [
    "# Тестирование OOB error\n",
    "X, y = make_regression(n_samples=100, n_features=5, noise=0.1, random_state=42)\n",
    "X = pd.DataFrame(X, columns=[f\"feature_{i}\" for i in range(X.shape[1])])\n",
    "y = pd.Series(y, name=\"target\")\n",
    "\n",
    "# Создаем экземпляр MyTreeReg и MyBaggingReg\n",
    "tree_model = MyTreeReg(max_depth=5, min_samples_split=2, max_leafs=20, bins=5)\n",
    "bagging_model = MyBaggingReg(estimator=tree_model, n_estimators=10, max_samples=0.8, random_state=42, oob_score='mse')\n",
    "\n",
    "# Обучаем модель\n",
    "bagging_model.fit(X, y)\n",
    "\n",
    "# Выводим OOB оценку\n",
    "print(\"OOB MSE:\", bagging_model.oob_score_)"
   ]
  },
  {
   "cell_type": "code",
   "execution_count": null,
   "metadata": {},
   "outputs": [
    {
     "name": "stdout",
     "output_type": "stream",
     "text": [
      "Сумма для линейной модели: 888.11\n",
      "Сумма для KNN модели: 958.67\n",
      "Сумма для модели дерева: 884.07\n"
     ]
    }
   ],
   "source": [
    "# Тестировани предсказания\n",
    "X, y = make_regression(n_samples=100, n_features=5, noise=0.1, random_state=42)\n",
    "X = pd.DataFrame(X, columns=[f\"feature_{i}\" for i in range(X.shape[1])])\n",
    "y = pd.Series(y, name=\"target\")\n",
    "\n",
    "# Создаем три экземпляра моделей с использованием классов\n",
    "tree_model = MyTreeReg(max_depth=5, min_samples_split=2, max_leafs=20, bins=5)\n",
    "line_model = MyLineReg()\n",
    "knn_model = MyKNNReg()\n",
    "\n",
    "# Обучаем каждую модель на данных\n",
    "N = X.shape[0]\n",
    "tree_model.fit(X, y, N)  # Для дерева передаем N\n",
    "line_model.fit(X, y) \n",
    "knn_model.fit(X, y)   \n",
    "\n",
    "# Получаем предсказания и считаем сумму для каждой модели отдельно\n",
    "# Линейная регрессия\n",
    "line_predictions = line_model.predict(X)\n",
    "sum_line_predictions = np.sum(line_predictions)\n",
    "print(f\"Сумма для линейной модели: {sum_line_predictions:.2f}\")\n",
    "\n",
    "# KNN\n",
    "knn_predictions = knn_model.predict(X)\n",
    "sum_knn_predictions = np.sum(knn_predictions)\n",
    "print(f\"Сумма для KNN модели: {sum_knn_predictions:.2f}\")\n",
    "\n",
    "# Дерево решений\n",
    "tree_predictions = tree_model.predict(X)\n",
    "sum_tree_predictions = np.sum(tree_predictions)\n",
    "print(f\"Сумма для модели дерева: {sum_tree_predictions:.2f}\")"
   ]
  },
  {
   "cell_type": "code",
   "execution_count": null,
   "metadata": {},
   "outputs": [
    {
     "name": "stdout",
     "output_type": "stream",
     "text": [
      "\n",
      "Average leaf count for all models: 18.60\n"
     ]
    }
   ],
   "source": [
    "# Тестирование обучения для TreeReg\n",
    "# # Генерация данных для теста\n",
    "X, y = make_regression(n_samples=100, n_features=5, noise=0.1, random_state=42)\n",
    "X = pd.DataFrame(X, columns=[f\"feature_{i}\" for i in range(X.shape[1])])\n",
    "y = pd.Series(y, name=\"target\")\n",
    "\n",
    "# Создаем экземпляр MyTreeReg и MyBaggingReg\n",
    "tree_model = MyTreeReg(max_depth=5, min_samples_split=2, max_leafs=20, bins=5)\n",
    "bagging_tree = MyBaggingReg(estimator=tree_model, n_estimators=10, max_samples=0.8, random_state=42)\n",
    "\n",
    "# Обучаем Bagging модель\n",
    "bagging_tree.fit(X, y)\n",
    "\n",
    "# Подсчитаем количество листьев для каждой модели в Bagging\n",
    "leaf_counts = []\n",
    "\n",
    "for i, model in enumerate(bagging_tree.estimators):\n",
    "    leaf_counts.append(model.leaf_count())  # Получаем количество листьев для текущей модели\n",
    "\n",
    "# Теперь вычисляем среднее количество листьев\n",
    "average_leaf_count = np.mean(leaf_counts)\n",
    "\n",
    "print(f\"\\nAverage leaf count for all models: {average_leaf_count:.2f}\")\n"
   ]
  },
  {
   "cell_type": "code",
   "execution_count": 13,
   "metadata": {},
   "outputs": [
    {
     "name": "stdout",
     "output_type": "stream",
     "text": [
      "Average of sum of predictions for all models: 441.2140\n"
     ]
    }
   ],
   "source": [
    "# Тестирование обучения для MyKNNReg\n",
    "from sklearn.datasets import make_regression\n",
    "\n",
    "# Генерация данных для теста\n",
    "X, y = make_regression(n_samples=100, n_features=5, noise=0.1, random_state=42)\n",
    "X = pd.DataFrame(X, columns=[f\"feature_{i}\" for i in range(X.shape[1])])\n",
    "y = pd.Series(y, name=\"target\")\n",
    "\n",
    "# Создаем экземпляр MyKNNReg и MyBaggingReg\n",
    "knn_model = MyKNNReg(k=3, metric='euclidean', weight='uniform')\n",
    "bagging_knn = MyBaggingReg(estimator=knn_model, n_estimators=10, max_samples=0.8, random_state=42)\n",
    "\n",
    "# Обучаем Bagging модель\n",
    "bagging_knn.fit(X, y)\n",
    "\n",
    "# Сумма предсказаний для каждой модели\n",
    "sum_predictions = []\n",
    "\n",
    "for i, model in enumerate(bagging_knn.estimators):\n",
    "    # Получаем предсказания на всех данных\n",
    "    predictions = model.predict(X)\n",
    "    # Суммируем предсказания для этой модели\n",
    "    sum_predictions.append(np.sum(predictions))\n",
    "\n",
    "# Теперь вычисляем среднее от всех сумм предсказаний\n",
    "average_sum_predictions = np.mean(sum_predictions)\n",
    "\n",
    "# Выводим среднее значение суммы предсказаний\n",
    "print(f\"Average of sum of predictions for all models: {average_sum_predictions:.4f}\")\n"
   ]
  },
  {
   "cell_type": "code",
   "execution_count": 9,
   "metadata": {},
   "outputs": [
    {
     "name": "stdout",
     "output_type": "stream",
     "text": [
      "(MyLineReg): Sum of weights = 314.2282\n"
     ]
    }
   ],
   "source": [
    "# Тестирование обучения для линейной регрессии\n",
    "from sklearn.datasets import make_regression\n",
    "\n",
    "# Генерация данных для теста\n",
    "X, y = make_regression(n_samples=100, n_features=5, noise=0.1, random_state=42)\n",
    "X = pd.DataFrame(X, columns=[f\"feature_{i}\" for i in range(X.shape[1])])\n",
    "y = pd.Series(y, name=\"target\")\n",
    "\n",
    "# Создаем экземпляр MyLineReg и MyBaggingReg\n",
    "linear_model = MyLineReg()\n",
    "bagging_linear = MyBaggingReg(estimator=linear_model, n_estimators=10, max_samples=0.8, random_state=42)\n",
    "\n",
    "# Обучаем Bagging модель\n",
    "bagging_linear.fit(X, y)\n",
    "\n",
    "# Вывод информации о весах\n",
    "model = bagging_linear.estimators[0]  # Получаем модель из списка\n",
    "coef_sum = np.sum(model.weights[1:])  # Используем weights\n",
    "print(f\"(MyLineReg): Sum of weights = {coef_sum:.4f}\")\n"
   ]
  },
  {
   "cell_type": "code",
   "execution_count": 5,
   "metadata": {},
   "outputs": [
    {
     "name": "stdout",
     "output_type": "stream",
     "text": [
      "MyTreeReg class: estimator=None, n_estimators=10, max_samples=1.0, random_state=42, oob_score=None, oob_score_=None, estimators=[], oob_predictions={}\n",
      "MyTreeReg class: estimator=None, n_estimators=100, max_samples=1.0, random_state=42, oob_score=None, oob_score_=None, estimators=[], oob_predictions={}\n",
      "MyTreeReg class: estimator=None, n_estimators=10, max_samples=0.7, random_state=42, oob_score=None, oob_score_=None, estimators=[], oob_predictions={}\n"
     ]
    }
   ],
   "source": [
    "# Тестирование класса\n",
    "sample1 = MyBaggingReg()\n",
    "sample2 = MyBaggingReg(n_estimators=100)\n",
    "sample3 = MyBaggingReg(max_samples=0.7)\n",
    "\n",
    "# Проверка\n",
    "print(sample1)\n",
    "print(sample2)\n",
    "print(sample3)"
   ]
  }
 ],
 "metadata": {
  "kernelspec": {
   "display_name": "base",
   "language": "python",
   "name": "python3"
  },
  "language_info": {
   "codemirror_mode": {
    "name": "ipython",
    "version": 3
   },
   "file_extension": ".py",
   "mimetype": "text/x-python",
   "name": "python",
   "nbconvert_exporter": "python",
   "pygments_lexer": "ipython3",
   "version": "3.11.5"
  }
 },
 "nbformat": 4,
 "nbformat_minor": 2
}
