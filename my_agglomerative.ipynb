{
 "cells": [
  {
   "cell_type": "code",
   "execution_count": 14,
   "metadata": {},
   "outputs": [],
   "source": [
    "import numpy as np\n",
    "import pandas as pd\n",
    "from sklearn.datasets import make_blobs\n",
    "from scipy.spatial.distance import cosine"
   ]
  },
  {
   "cell_type": "code",
   "execution_count": 18,
   "metadata": {},
   "outputs": [],
   "source": [
    "class MyAgglomerative:\n",
    "    def __init__(self, n_clusters=3,  metric='euclidean'):\n",
    "        self.n_clusters = n_clusters\n",
    "        self.metric = metric\n",
    "\n",
    "    def __str__(self):\n",
    "        # Формируем строку с параметрами экземпляра\n",
    "        params = vars(self)\n",
    "        params_str = ', '.join(f\"{key}={value}\" for key, value in params.items())\n",
    "        return f\"MyAgglomerative class: {params_str}\"\n",
    "    \n",
    "    def fit_predict(self, X):\n",
    "        #Выполняет агломеративную кластеризацию и возвращает номера кластеров\n",
    "        # Инициализация кластеров\n",
    "        clusters = [[i] for i in range(len(X))]\n",
    "        labels = np.zeros(len(X), dtype=int)\n",
    "\n",
    "        # Пока количество кластеров больше желаемого\n",
    "        while len(clusters) > self.n_clusters:\n",
    "            # Находим два ближайших кластера\n",
    "            min_distance = float('inf')\n",
    "            closest_pair = (0, 0)\n",
    "\n",
    "            for i in range(len(clusters)):\n",
    "                for j in range(i + 1, len(clusters)):\n",
    "                    distance = self._calculate_distance(X.iloc[clusters[i]], X.iloc[clusters[j]])\n",
    "                    if distance < min_distance:\n",
    "                        min_distance = distance\n",
    "                        closest_pair = (i, j)\n",
    "\n",
    "            # Объединяем два ближайших кластера\n",
    "            i, j = closest_pair\n",
    "            clusters[i] = clusters[i] + clusters[j]\n",
    "            del clusters[j]\n",
    "\n",
    "        # Присваиваем метки кластерам\n",
    "        for cluster_id, cluster in enumerate(clusters):\n",
    "            for index in cluster:\n",
    "                labels[index] = cluster_id\n",
    "\n",
    "        return labels #Список номеров кластеров\n",
    "\n",
    "\n",
    "       # Вычисляем расстояния между всеми точками в двух кластерах    \n",
    "    def _calculate_distance(self, cluster1, cluster2):\n",
    "        # В зависимости от метрики вызываем соответствующий расчет\n",
    "        if self.metric == 'euclidean':\n",
    "            return self._euclidean_distance(cluster1, cluster2)\n",
    "        elif self.metric == 'chebyshev':\n",
    "            return self._chebyshev_distance(cluster1, cluster2)\n",
    "        elif self.metric == 'manhattan':\n",
    "            return self._manhattan_distance(cluster1, cluster2)\n",
    "        elif self.metric == 'cosine':\n",
    "            return self._cosine_distance(cluster1, cluster2)\n",
    "        else:\n",
    "            raise ValueError(f\"Unknown metric: {self.metric}\")\n",
    "\n",
    "    def _euclidean_distance(self, cluster1, cluster2):\n",
    "        # Евклидово расстояние\n",
    "        distances = np.linalg.norm(cluster1.values[:, np.newaxis] - cluster2.values, axis=2)\n",
    "        return np.mean(distances)\n",
    "\n",
    "    def _chebyshev_distance(self, cluster1, cluster2):\n",
    "        # Расстояние Чебышёва\n",
    "        distances = np.max(np.abs(cluster1.values[:, np.newaxis] - cluster2.values), axis=2)\n",
    "        return np.mean(distances)\n",
    "\n",
    "    def _manhattan_distance(self, cluster1, cluster2):\n",
    "        # Манхэттенское расстояние\n",
    "        distances = np.sum(np.abs(cluster1.values[:, np.newaxis] - cluster2.values), axis=2)\n",
    "        return np.mean(distances)\n",
    "\n",
    "    def _cosine_distance(self, cluster1, cluster2):\n",
    "        # Косинусное расстояние\n",
    "        distances = [cosine(v1, v2) for v1, v2 in zip(cluster1.values, cluster2.values)]\n",
    "        return np.mean(distances)"
   ]
  },
  {
   "cell_type": "code",
   "execution_count": null,
   "metadata": {},
   "outputs": [
    {
     "name": "stdout",
     "output_type": "stream",
     "text": [
      "Метки кластеров (Евклидово): [0 0 0 0 1 2 0 1 1 1 2 1 2 0 2 0 2 2 1 1]\n",
      "Метки кластеров (Манхэттенское): [0 0 0 0 1 2 0 1 1 1 2 1 2 0 2 0 2 2 1 1]\n",
      "Метки кластеров (Косинусное): [0 0 0 0 1 2 0 1 1 1 2 1 2 0 2 0 2 2 1 1]\n",
      "Метки кластеров (Чебышёв): [0 0 0 0 1 2 0 1 1 1 2 1 2 0 2 0 2 2 1 1]\n"
     ]
    }
   ],
   "source": [
    "#Тест метрик\n",
    "X, y = make_blobs(n_samples=20, centers=3, random_state=42)\n",
    "\n",
    "# Преобразуем в DataFrame для удобства\n",
    "X_df = pd.DataFrame(X, columns=['Feature 1', 'Feature 2'])\n",
    "\n",
    "# Пример 1: Используем Евклидово расстояние\n",
    "agg_clust_euclidean = MyAgglomerative(n_clusters=3, metric='euclidean')\n",
    "labels_euclidean = agg_clust_euclidean.fit_predict(X_df)\n",
    "print(f\"Метки кластеров (Евклидово): {labels_euclidean}\")\n",
    "\n",
    "# Пример 2: Используем Манхэттенское расстояние\n",
    "agg_clust_manhattan = MyAgglomerative(n_clusters=3, metric='manhattan')\n",
    "labels_manhattan = agg_clust_manhattan.fit_predict(X_df)\n",
    "print(f\"Метки кластеров (Манхэттенское): {labels_manhattan}\")\n",
    "\n",
    "# Пример 3: Используем Косинусное расстояние\n",
    "agg_clust_cosine = MyAgglomerative(n_clusters=3, metric='cosine')\n",
    "labels_cosine = agg_clust_cosine.fit_predict(X_df)\n",
    "print(f\"Метки кластеров (Косинусное): {labels_cosine}\")\n",
    "\n",
    "# Пример 4: Используем Расстояние Чебышёва\n",
    "agg_clust_chebyshev = MyAgglomerative(n_clusters=3, metric='chebyshev')\n",
    "labels_chebyshev = agg_clust_chebyshev.fit_predict(X_df)\n",
    "print(f\"Метки кластеров (Чебышёв): {labels_chebyshev}\")"
   ]
  },
  {
   "cell_type": "code",
   "execution_count": 12,
   "metadata": {},
   "outputs": [
    {
     "name": "stdout",
     "output_type": "stream",
     "text": [
      "[0 0 0 0 1 2 0 1 1 1 2 1 2 0 2 0 2 2 1 1]\n"
     ]
    }
   ],
   "source": [
    "# Тест обучения-предсказания\n",
    "X, y = make_blobs(n_samples=20, centers=3, random_state=42)\n",
    "\n",
    "# Преобразуем в DataFrame для удобства\n",
    "X_df = pd.DataFrame(X, columns=['Feature 1', 'Feature 2'])\n",
    "\n",
    "# Создаем экземпляр класса\n",
    "agg_clust = MyAgglomerative(n_clusters=3)\n",
    "\n",
    "# Применяем кластеризацию\n",
    "labels = agg_clust.fit_predict(X_df)\n",
    "\n",
    "# Выводим метки кластеров для каждой точки\n",
    "print(labels)"
   ]
  },
  {
   "cell_type": "code",
   "execution_count": 2,
   "metadata": {},
   "outputs": [
    {
     "name": "stdout",
     "output_type": "stream",
     "text": [
      "MyAgglomerative class: n_clusters=3\n",
      "MyAgglomerative class: n_clusters=5\n"
     ]
    }
   ],
   "source": [
    "# Тест класса\n",
    "# Создание экземпляров класса с различными параметрами\n",
    "model1 = MyAgglomerative()\n",
    "model2 = MyAgglomerative(n_clusters=5)\n",
    "\n",
    "print(model1) \n",
    "print(model2)  "
   ]
  }
 ],
 "metadata": {
  "kernelspec": {
   "display_name": "base",
   "language": "python",
   "name": "python3"
  },
  "language_info": {
   "codemirror_mode": {
    "name": "ipython",
    "version": 3
   },
   "file_extension": ".py",
   "mimetype": "text/x-python",
   "name": "python",
   "nbconvert_exporter": "python",
   "pygments_lexer": "ipython3",
   "version": "3.11.5"
  }
 },
 "nbformat": 4,
 "nbformat_minor": 2
}
