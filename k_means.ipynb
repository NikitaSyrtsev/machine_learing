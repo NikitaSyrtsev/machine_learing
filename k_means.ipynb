{
 "cells": [
  {
   "cell_type": "code",
   "execution_count": 11,
   "metadata": {},
   "outputs": [],
   "source": [
    "import numpy as np\n",
    "import pandas as pd\n",
    "from sklearn.datasets import make_blobs"
   ]
  },
  {
   "cell_type": "code",
   "execution_count": 27,
   "metadata": {},
   "outputs": [],
   "source": [
    "class MyKMeans:\n",
    "    def __init__(self, n_clusters=3, max_iter=10, n_init=3, random_state=42):\n",
    "        self.n_clusters = n_clusters\n",
    "        self.max_iter = max_iter\n",
    "        self.n_init = n_init\n",
    "        self.random_state = random_state\n",
    "    \n",
    "    def __str__(self):\n",
    "        # Формируем строку с параметрами экземпляра\n",
    "        params = vars(self)\n",
    "        params_str = ', '.join(f\"{key}={value}\" for key, value in params.items())\n",
    "        return f\"MyKMeans class: {params_str}\"\n",
    "    \n",
    "    def fit(self, X):\n",
    "        np.random.seed(self.random_state)\n",
    "        X = X.to_numpy()  # Преобразуем датафрейм в массив numpy\n",
    "        n_samples, n_features = X.shape\n",
    "        best_inertia = float('inf')\n",
    "        best_centers = None\n",
    "\n",
    "        for _ in range(self.n_init):\n",
    "            # Инициализация случайных центров кластеров\n",
    "            centers = np.array([\n",
    "                [np.random.uniform(np.min(X[:, j]), np.max(X[:, j])) for j in range(n_features)]\n",
    "                for _ in range(self.n_clusters)\n",
    "            ])\n",
    "            \n",
    "            for iteration in range(self.max_iter):\n",
    "                # Шаг 1: Распределение точек по кластерам\n",
    "                labels = np.argmin(\n",
    "                    np.linalg.norm(X[:, np.newaxis] - centers, axis=2), axis=1\n",
    "                )\n",
    "                \n",
    "                # Шаг 2: Пересчет центров кластеров\n",
    "                new_centers = np.array([\n",
    "                    X[labels == k].mean(axis=0) if len(X[labels == k]) > 0 else centers[k]\n",
    "                    for k in range(self.n_clusters)\n",
    "                ])\n",
    "                \n",
    "                # Если центры не изменились, завершить итерации\n",
    "                if np.allclose(centers, new_centers):\n",
    "                    break\n",
    "                centers = new_centers\n",
    "            \n",
    "            # Вычисление WCSS (внутрикластерной суммы квадратов)\n",
    "            inertia = sum(\n",
    "                np.sum((X[labels == k] - centers[k])**2)\n",
    "                for k in range(self.n_clusters)\n",
    "            )\n",
    "            \n",
    "            # Сохранение лучшей модели\n",
    "            if inertia < best_inertia:\n",
    "                best_inertia = inertia\n",
    "                best_centers = centers\n",
    "\n",
    "        self.cluster_centers_ = best_centers.tolist()\n",
    "        self.inertia_ = best_inertia\n",
    "        \n",
    "    def predict(self, X):\n",
    "        # Проверка, что модель обучена\n",
    "        if self.cluster_centers_ is None:\n",
    "            raise ValueError(\"Model has not been trained. Call fit().\")\n",
    "\n",
    "        # Преобразование входных данных в массив numpy\n",
    "        X = X.to_numpy()\n",
    "\n",
    "        # Вычисление расстояний от точек до центров кластеров\n",
    "        distances = np.linalg.norm(X[:, np.newaxis] - self.cluster_centers_, axis=2)\n",
    "\n",
    "        # Для каждой точки находим индекс ближайшего центра\n",
    "        labels = np.argmin(distances, axis=1)\n",
    "\n",
    "        return labels.tolist()"
   ]
  },
  {
   "cell_type": "code",
   "execution_count": 26,
   "metadata": {},
   "outputs": [
    {
     "name": "stdout",
     "output_type": "stream",
     "text": [
      "[2, 8, 0, 8, 9, 6, 4, 1, 6, 9]\n"
     ]
    }
   ],
   "source": [
    "#Тест предсказания\n",
    "# Генерация данных\n",
    "X, y = make_blobs(n_samples=10, centers=10, n_features=2, random_state=42)\n",
    "data = pd.DataFrame(X, columns=['feature1', 'feature2'])\n",
    "\n",
    "# Инициализация и обучение модели\n",
    "params = {\"n_clusters\": 10, \"max_iter\": 10, \"n_init\": 3}\n",
    "kmeans = MyKMeans(**params)\n",
    "kmeans.fit(data)\n",
    "\n",
    "# Предсказание кластеров\n",
    "predictions = kmeans.predict(data)\n",
    "\n",
    "# Вывод результатов\n",
    "print(predictions)"
   ]
  },
  {
   "cell_type": "code",
   "execution_count": 21,
   "metadata": {},
   "outputs": [
    {
     "name": "stdout",
     "output_type": "stream",
     "text": [
      "Centroids: [[-4.237358706734224, -2.645892201438761], [2.0695759547461265, -7.574591078045801]]\n",
      "WCSS (Inertia): 30.35551333817684\n"
     ]
    }
   ],
   "source": [
    "#Тест обучения\n",
    "# Генерация тестовых данных с 2 фичами и 2 кластерами\n",
    "X, y = make_blobs(n_samples=20, centers=2, n_features=2)\n",
    "data = pd.DataFrame(X, columns=['feature1', 'feature2'])\n",
    "\n",
    "# Инициализация и обучение модели\n",
    "kmeans = MyKMeans(n_clusters=2, max_iter=50, n_init=5)\n",
    "kmeans.fit(data)\n",
    "\n",
    "# Результаты\n",
    "print(\"Centroids:\", kmeans.cluster_centers_)\n",
    "print(\"WCSS (Inertia):\", kmeans.inertia_)\n"
   ]
  },
  {
   "cell_type": "code",
   "execution_count": 28,
   "metadata": {},
   "outputs": [
    {
     "name": "stdout",
     "output_type": "stream",
     "text": [
      "MyKMeans class: n_clusters=3, max_iter=10, n_init=3, random_state=42\n",
      "MyKMeans class: n_clusters=5, max_iter=10, n_init=4, random_state=42\n",
      "MyKMeans class: n_clusters=3, max_iter=20, n_init=3, random_state=42\n"
     ]
    }
   ],
   "source": [
    "#Тест класса\n",
    "model1 = MyKMeans()\n",
    "model2 = MyKMeans(n_clusters=5, n_init=4)\n",
    "model3 = MyKMeans(max_iter=20)\n",
    "\n",
    "# Проверка\n",
    "print(model1)\n",
    "print(model2)\n",
    "print(model3)"
   ]
  }
 ],
 "metadata": {
  "kernelspec": {
   "display_name": "base",
   "language": "python",
   "name": "python3"
  },
  "language_info": {
   "codemirror_mode": {
    "name": "ipython",
    "version": 3
   },
   "file_extension": ".py",
   "mimetype": "text/x-python",
   "name": "python",
   "nbconvert_exporter": "python",
   "pygments_lexer": "ipython3",
   "version": "3.11.5"
  }
 },
 "nbformat": 4,
 "nbformat_minor": 2
}
