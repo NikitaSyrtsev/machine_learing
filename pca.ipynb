{
 "cells": [
  {
   "cell_type": "code",
   "execution_count": 6,
   "metadata": {},
   "outputs": [],
   "source": [
    "import numpy as np\n",
    "import pandas as pd\n",
    "\n",
    "\n",
    "class MyPCA:\n",
    "    def __init__(self, n_components=3):\n",
    "        self.n_components = n_components\n",
    "\n",
    "    def __repr__(self):\n",
    "        #Возвращает строковое представление объекта класса\n",
    "        return f\"MyPCA class: n_components={self.n_components}\"\n",
    "    \n",
    "    def fit_transform(self, X):\n",
    "    #Применяет метод PCA к входным данным и уменьшает их размерность\n",
    "        \n",
    "        # Преобразуем DataFrame в numpy массив\n",
    "        X = X.values if isinstance(X, pd.DataFrame) else X\n",
    "\n",
    "        # Центрируем данные (вычитаем среднее значение из каждого столбца)\n",
    "        X_mean = np.mean(X, axis=0)\n",
    "        X_centered = X - X_mean\n",
    "\n",
    "        # Вычисляем ковариационную матрицу\n",
    "        covariance_matrix = np.cov(X_centered, rowvar=False)\n",
    "\n",
    "        # Собственные значения и собственные векторы\n",
    "        eigenvalues, eigenvectors = np.linalg.eigh(covariance_matrix)\n",
    "\n",
    "        # Сортируем собственные значения и векторы в порядке убывания\n",
    "        sorted_indices = np.argsort(eigenvalues)[::-1]\n",
    "        eigenvalues = eigenvalues[sorted_indices]\n",
    "        eigenvectors = eigenvectors[:, sorted_indices]\n",
    "\n",
    "        # Выбираем первые n_components собственных векторов\n",
    "        principal_components = eigenvectors[:, :self.n_components]\n",
    "\n",
    "        # Проецируем данные на главные компоненты\n",
    "        X_reduced = np.dot(X_centered, principal_components)\n",
    "\n",
    "        # Возвращаем результат в виде DataFrame\n",
    "        return pd.DataFrame(X_reduced, columns=[f\"PC{i+1}\" for i in range(self.n_components)])\n",
    "\n"
   ]
  },
  {
   "cell_type": "code",
   "execution_count": null,
   "metadata": {},
   "outputs": [],
   "source": [
    "# Пример использования\n",
    "if __name__ == \"__main__\":\n",
    "    # Создаем тесты\n",
    "    test_data_1 = pd.DataFrame({\n",
    "        'A': [1, 2, 3, 4, 5],\n",
    "        'B': [5, 4, 3, 2, 1],\n",
    "        'C': [2, 3, 4, 5, 6]\n",
    "    })\n",
    "\n",
    "    test_data_2 = pd.DataFrame({\n",
    "        'X': [10, 20, 30, 40, 50],\n",
    "        'Y': [50, 40, 30, 20, 10],\n",
    "        'Z': [5, 15, 25, 35, 45]\n",
    "    })\n",
    "\n",
    "    test_data_3 = pd.DataFrame({\n",
    "        'P': [3, 6, 9, 12, 15],\n",
    "        'Q': [8, 16, 24, 32, 40],\n",
    "        'R': [1, 2, 3, 4, 5]\n",
    "    })\n",
    "\n",
    "    # Тестируем наш MyPCA\n",
    "    my_pca = MyPCA(n_components=2)\n",
    "    print(\"MyPCA Test 1:\")\n",
    "    print(my_pca.fit_transform(test_data_1))\n",
    "    print(\"\\nMyPCA Test 2:\")\n",
    "    print(my_pca.fit_transform(test_data_2))\n",
    "    print(\"\\nMyPCA Test 3:\")\n",
    "    print(my_pca.fit_transform(test_data_3))"
   ]
  },
  {
   "cell_type": "code",
   "execution_count": 4,
   "metadata": {},
   "outputs": [
    {
     "name": "stdout",
     "output_type": "stream",
     "text": [
      "MyPCA class: n_components=3\n",
      "MyPCA class: n_components=5\n",
      "MyPCA class: n_components=7\n"
     ]
    }
   ],
   "source": [
    "# Пример класса\n",
    "if __name__ == \"__main__\":\n",
    "    # Создаем экземпляр класса с параметром n_components=3\n",
    "    pca = MyPCA(n_components=3)\n",
    "    print(pca)\n",
    "    \n",
    "    pca2 = MyPCA(n_components=5)\n",
    "    print(pca2)\n",
    "    \n",
    "    pca3 = MyPCA(n_components=7)\n",
    "    print(pca3)"
   ]
  }
 ],
 "metadata": {
  "kernelspec": {
   "display_name": "base",
   "language": "python",
   "name": "python3"
  },
  "language_info": {
   "codemirror_mode": {
    "name": "ipython",
    "version": 3
   },
   "file_extension": ".py",
   "mimetype": "text/x-python",
   "name": "python",
   "nbconvert_exporter": "python",
   "pygments_lexer": "ipython3",
   "version": "3.11.5"
  }
 },
 "nbformat": 4,
 "nbformat_minor": 2
}
